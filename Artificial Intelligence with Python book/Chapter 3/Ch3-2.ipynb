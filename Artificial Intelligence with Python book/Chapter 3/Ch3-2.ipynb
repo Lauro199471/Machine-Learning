{
 "cells": [
  {
   "cell_type": "markdown",
   "metadata": {},
   "source": [
    "# Estimating the number of clusters with Mean Shift algorithm"
   ]
  },
  {
   "cell_type": "markdown",
   "metadata": {},
   "source": [
    "__Mean Shift__ is a powerful algorithm used in unsupervised learning. It is a non-parametric algorithm used frequently for clustering. It is non-parametric because it does not make any assumptions about the underlying distributions. This is in contrast to parametric techniques, where we assume that the underlying data follows a standard probability distribution. Mean Shift finds a lot of applications in fields like __object tracking and real-time data analysis.__\n",
    "\n"
   ]
  },
  {
   "cell_type": "markdown",
   "metadata": {},
   "source": [
    "The goal of Mean Shift is to identify the location of centroids. For each data point in the training dataset, it defines a window around it. It then computes the centroid for this window and updates the location to this new centroid. It then repeats the process for this new location by defining a window around it. As we keep doing this, we move closer to the peak of the cluster. Each data point will move towards the cluster it belongs to. The movement is towards a region of higher density."
   ]
  },
  {
   "cell_type": "markdown",
   "metadata": {},
   "source": [
    "We keep shifting the centroids, also called means, towards the peaks of each cluster. Since we keep shifting the means, it is called Mean Shift! We keep doing this until the algorithm converges, at which stage the centroids don't move anymore."
   ]
  },
  {
   "cell_type": "code",
   "execution_count": 1,
   "metadata": {},
   "outputs": [],
   "source": [
    "import numpy as np \n",
    "import matplotlib.pyplot as plt \n",
    "from sklearn.cluster import MeanShift, estimate_bandwidth \n",
    "from itertools import cycle "
   ]
  },
  {
   "cell_type": "markdown",
   "metadata": {},
   "source": [
    "Load Input Data "
   ]
  },
  {
   "cell_type": "code",
   "execution_count": 3,
   "metadata": {},
   "outputs": [],
   "source": [
    "# Load data from input file \n",
    "X = np.loadtxt('data_clustering.txt', delimiter=',') "
   ]
  },
  {
   "cell_type": "markdown",
   "metadata": {},
   "source": [
    "Estimate the bandwidth of the input data. Bandwidth is a parameter of the underlying kernel density estimation process used in Mean Shift algorithm. The bandwidth affects the overall convergence rate of the algorithm and the number of clusters that we will end up with in the end. Hence this is a crucial parameter. If the bandwidth is small, it might results in too many clusters, where as if the value is large, then it will merge distinct clusters.\n",
    "\n",
    "The quantile parameter impacts how the bandwidth is estimated. A higher value for quantile will increase the estimated bandwidth, resulting in a lesser number of clusters:"
   ]
  },
  {
   "cell_type": "code",
   "execution_count": 4,
   "metadata": {},
   "outputs": [],
   "source": [
    "# Estimate the bandwidth of X \n",
    "bandwidth_X = estimate_bandwidth(X, quantile=0.1, n_samples=len(X)) "
   ]
  },
  {
   "cell_type": "markdown",
   "metadata": {},
   "source": [
    "Let's train the Mean Shift clustering model using the estimated bandwidth:"
   ]
  },
  {
   "cell_type": "code",
   "execution_count": 5,
   "metadata": {},
   "outputs": [
    {
     "data": {
      "text/plain": [
       "MeanShift(bandwidth=1.3044799765090382, bin_seeding=True, cluster_all=True,\n",
       "     min_bin_freq=1, n_jobs=None, seeds=None)"
      ]
     },
     "execution_count": 5,
     "metadata": {},
     "output_type": "execute_result"
    }
   ],
   "source": [
    "# Cluster data with MeanShift \n",
    "meanshift_model = MeanShift(bandwidth=bandwidth_X, bin_seeding=True) \n",
    "meanshift_model.fit(X) "
   ]
  },
  {
   "cell_type": "markdown",
   "metadata": {},
   "source": [
    "Extract the centers of all the clusters:"
   ]
  },
  {
   "cell_type": "code",
   "execution_count": 6,
   "metadata": {},
   "outputs": [
    {
     "name": "stdout",
     "output_type": "stream",
     "text": [
      "\n",
      "Centers of clusters:\n",
      " [[2.95568966 1.95775862]\n",
      " [7.20690909 2.20836364]\n",
      " [2.17603774 8.03283019]\n",
      " [5.97960784 8.39078431]\n",
      " [4.99466667 4.65844444]]\n"
     ]
    }
   ],
   "source": [
    "# Extract the centers of clusters \n",
    "cluster_centers = meanshift_model.cluster_centers_ \n",
    "print('\\nCenters of clusters:\\n', cluster_centers) "
   ]
  },
  {
   "cell_type": "markdown",
   "metadata": {},
   "source": [
    "Extract the number of clusters:"
   ]
  },
  {
   "cell_type": "code",
   "execution_count": 7,
   "metadata": {},
   "outputs": [
    {
     "name": "stdout",
     "output_type": "stream",
     "text": [
      "\n",
      "Number of clusters in input data = 5\n"
     ]
    }
   ],
   "source": [
    "# Estimate the number of clusters \n",
    "labels = meanshift_model.labels_ \n",
    "num_clusters = len(np.unique(labels)) \n",
    "print(\"\\nNumber of clusters in input data =\", num_clusters) "
   ]
  },
  {
   "cell_type": "markdown",
   "metadata": {},
   "source": [
    "Visualize the data points:"
   ]
  },
  {
   "cell_type": "code",
   "execution_count": 11,
   "metadata": {},
   "outputs": [
    {
     "data": {
      "image/png": "[encoded data removed]",
      "text/plain": [
       "<Figure size 432x288 with 1 Axes>"
      ]
     },
     "metadata": {
      "needs_background": "light"
     },
     "output_type": "display_data"
    }
   ],
   "source": [
    "# Plot the points and cluster centers \n",
    "plt.figure() \n",
    "markers = 'o*xvs' \n",
    "for i, marker in zip(range(num_clusters), markers): \n",
    "    # Plot points that belong to the current cluster \n",
    "    plt.scatter(X[labels==i, 0], X[labels==i, 1], marker=marker, color='black') \n",
    "    # Plot the cluster center \n",
    "    cluster_center = cluster_centers[i] \n",
    "    plt.plot(cluster_center[0], cluster_center[1], marker='o',  \n",
    "            markerfacecolor='red', markeredgecolor='red',  \n",
    "            markersize=15) \n",
    "\n",
    "plt.title('Clusters') \n",
    "plt.show() "
   ]
  },
  {
   "cell_type": "code",
   "execution_count": null,
   "metadata": {},
   "outputs": [],
   "source": []
  }
 ],
 "metadata": {
  "kernelspec": {
   "display_name": "Python 3",
   "language": "python",
   "name": "python3"
  },
  "language_info": {
   "codemirror_mode": {
    "name": "ipython",
    "version": 3
   },
   "file_extension": ".py",
   "mimetype": "text/x-python",
   "name": "python",
   "nbconvert_exporter": "python",
   "pygments_lexer": "ipython3",
   "version": "3.6.7"
  }
 },
 "nbformat": 4,
 "nbformat_minor": 2
}
