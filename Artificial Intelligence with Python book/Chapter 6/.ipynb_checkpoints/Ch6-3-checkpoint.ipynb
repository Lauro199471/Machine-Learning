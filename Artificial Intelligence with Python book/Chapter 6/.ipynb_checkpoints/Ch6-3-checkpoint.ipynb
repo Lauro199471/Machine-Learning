{
 "cells": [
  {
   "cell_type": "markdown",
   "metadata": {},
   "source": [
    "# Constructing a multilayer neural network\n",
    "In order to enable higher accuracy, we need to give more freedom to the neural network. This means that a neural network needs more than one layer to extract the underlying patterns in the training data. Let's create a multilayer neural network to achieve that.\n",
    "\n"
   ]
  },
  {
   "cell_type": "code",
   "execution_count": 1,
   "metadata": {},
   "outputs": [],
   "source": [
    "import numpy as np \n",
    "import matplotlib.pyplot as plt \n",
    "import neurolab as nl "
   ]
  },
  {
   "cell_type": "markdown",
   "metadata": {},
   "source": [
    "we saw how to use a neural network as a __classifier__. In this section, we will see how to use a multilayer neural network as a __regressor__."
   ]
  },
  {
   "cell_type": "markdown",
   "metadata": {},
   "source": [
    "Generate some sample data points based on the equation y = 3x^2 + 5 and then normalize the points:"
   ]
  },
  {
   "cell_type": "code",
   "execution_count": 2,
   "metadata": {},
   "outputs": [],
   "source": [
    "# Generate some training data \n",
    "min_val = -15 \n",
    "max_val = 15 \n",
    "num_points = 130 \n",
    "x = np.linspace(min_val, max_val, num_points) \n",
    "y = 3 * np.square(x) + 5 \n",
    "y /= np.linalg.norm(y) "
   ]
  },
  {
   "cell_type": "code",
   "execution_count": 3,
   "metadata": {},
   "outputs": [],
   "source": [
    "# Create data and labels \n",
    "data = x.reshape(num_points, 1) \n",
    "labels = y.reshape(num_points, 1) "
   ]
  },
  {
   "cell_type": "code",
   "execution_count": 4,
   "metadata": {},
   "outputs": [
    {
     "name": "stdout",
     "output_type": "stream",
     "text": [
      "Data shape:  (130, 1)\n",
      "Label shape:  (130, 1)\n"
     ]
    }
   ],
   "source": [
    "print(\"Data shape: \" , np.shape(data))\n",
    "print(\"Label shape: \" , np.shape(labels))"
   ]
  },
  {
   "cell_type": "code",
   "execution_count": 5,
   "metadata": {},
   "outputs": [
    {
     "data": {
      "text/plain": [
       "Text(0.5, 1.0, 'Input data')"
      ]
     },
     "execution_count": 5,
     "metadata": {},
     "output_type": "execute_result"
    },
    {
     "data": {
      "image/png": "[encoded data removed]",
      "text/plain": [
       "<Figure size 432x288 with 1 Axes>"
      ]
     },
     "metadata": {
      "needs_background": "light"
     },
     "output_type": "display_data"
    }
   ],
   "source": [
    "# Plot input data \n",
    "plt.figure() \n",
    "plt.scatter(data, labels) \n",
    "plt.xlabel('Dimension 1') \n",
    "plt.ylabel('Dimension 2') \n",
    "plt.title('Input data') "
   ]
  },
  {
   "cell_type": "markdown",
   "metadata": {},
   "source": [
    "Define a multilayer neural network with two hidden layers. You are free to design a neural network any way you want. For this case, let's have 10 neurons in the first layer and 6 neurons in the second layer. Our task is to predict the value, so the output layer will contain a single neuron:"
   ]
  },
  {
   "cell_type": "code",
   "execution_count": 6,
   "metadata": {},
   "outputs": [],
   "source": [
    "# Define a multilayer neural network with 2 hidden layers; \n",
    "# First hidden layer consists of 10 neurons \n",
    "# Second hidden layer consists of 6 neurons \n",
    "# Output layer consists of 1 neuron \n",
    "nn = nl.net.newff([[min_val, max_val]], [10, 6, 1]) "
   ]
  },
  {
   "cell_type": "markdown",
   "metadata": {},
   "source": [
    "Set the training algorithm to gradient descent:"
   ]
  },
  {
   "cell_type": "code",
   "execution_count": 7,
   "metadata": {},
   "outputs": [],
   "source": [
    "# Set the training algorithm to gradient descent \n",
    "nn.trainf = nl.train.train_gd "
   ]
  },
  {
   "cell_type": "markdown",
   "metadata": {},
   "source": [
    "Train the neural network using the training data that was generated:\n",
    "\n"
   ]
  },
  {
   "cell_type": "code",
   "execution_count": 8,
   "metadata": {},
   "outputs": [
    {
     "name": "stdout",
     "output_type": "stream",
     "text": [
      "Epoch: 500; Error: 0.008001950117427268;\n",
      "Epoch: 1000; Error: 0.009149475153085528;\n",
      "Epoch: 1500; Error: 0.009114335462875503;\n",
      "Epoch: 2000; Error: 0.003658350055934575;\n",
      "Epoch: 2500; Error: 0.0032688513451907754;\n",
      "Epoch: 3000; Error: 0.0035004101883878438;\n",
      "Epoch: 3500; Error: 0.0028208022146200243;\n",
      "Epoch: 4000; Error: 0.002592231878764647;\n",
      "Epoch: 4500; Error: 0.0032124149941867215;\n",
      "Epoch: 5000; Error: 0.0023458374266984478;\n",
      "Epoch: 5500; Error: 0.0030275970681627584;\n",
      "Epoch: 6000; Error: 0.0023937396716107937;\n",
      "The maximum number of train epochs is reached\n"
     ]
    }
   ],
   "source": [
    "# Train the neural network \n",
    "error_progress = nn.train(data, labels, epochs=6000, show=500, goal=0.001) "
   ]
  },
  {
   "cell_type": "markdown",
   "metadata": {},
   "source": [
    "Run the neural network on the training datapoints:\n",
    "\n"
   ]
  },
  {
   "cell_type": "code",
   "execution_count": 9,
   "metadata": {},
   "outputs": [],
   "source": [
    "# Run the neural network on training datapoints \n",
    "output = nn.sim(data) \n",
    "y_pred = output.reshape(num_points) "
   ]
  },
  {
   "cell_type": "markdown",
   "metadata": {},
   "source": [
    "Plot the training progress:\n",
    "\n"
   ]
  },
  {
   "cell_type": "code",
   "execution_count": 10,
   "metadata": {},
   "outputs": [
    {
     "data": {
      "text/plain": [
       "Text(0.5, 1.0, 'Training error progress')"
      ]
     },
     "execution_count": 10,
     "metadata": {},
     "output_type": "execute_result"
    },
    {
     "data": {
      "image/png": "[encoded data removed]",
      "text/plain": [
       "<Figure size 432x288 with 1 Axes>"
      ]
     },
     "metadata": {
      "needs_background": "light"
     },
     "output_type": "display_data"
    }
   ],
   "source": [
    "# Plot training error \n",
    "plt.figure() \n",
    "plt.plot(error_progress) \n",
    "plt.xlabel('Number of epochs') \n",
    "plt.ylabel('Error') \n",
    "plt.title('Training error progress') "
   ]
  },
  {
   "cell_type": "markdown",
   "metadata": {},
   "source": [
    "Plot the predicted output:"
   ]
  },
  {
   "cell_type": "code",
   "execution_count": 11,
   "metadata": {},
   "outputs": [
    {
     "data": {
      "image/png": "[encoded data removed]",
      "text/plain": [
       "<Figure size 432x288 with 1 Axes>"
      ]
     },
     "metadata": {
      "needs_background": "light"
     },
     "output_type": "display_data"
    }
   ],
   "source": [
    "# Plot the output  \n",
    "x_dense = np.linspace(min_val, max_val, num_points * 2) \n",
    "y_dense_pred = nn.sim(x_dense.reshape(x_dense.size,1)).reshape(x_dense.size) \n",
    " \n",
    "plt.figure() \n",
    "plt.plot(x_dense, y_dense_pred, '-', x, y, '.', x, y_pred, 'p') \n",
    "plt.title('Actual vs predicted') \n",
    " \n",
    "plt.show() \n"
   ]
  },
  {
   "cell_type": "code",
   "execution_count": null,
   "metadata": {},
   "outputs": [],
   "source": []
  }
 ],
 "metadata": {
  "kernelspec": {
   "display_name": "Python 3",
   "language": "python",
   "name": "python3"
  },
  "language_info": {
   "codemirror_mode": {
    "name": "ipython",
    "version": 3
   },
   "file_extension": ".py",
   "mimetype": "text/x-python",
   "name": "python",
   "nbconvert_exporter": "python",
   "pygments_lexer": "ipython3",
   "version": "3.6.7"
  }
 },
 "nbformat": 4,
 "nbformat_minor": 2
}
