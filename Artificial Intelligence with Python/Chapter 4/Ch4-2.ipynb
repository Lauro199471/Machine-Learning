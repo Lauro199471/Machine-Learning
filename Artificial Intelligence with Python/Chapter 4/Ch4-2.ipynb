{
 "cells": [
  {
   "cell_type": "markdown",
   "metadata": {},
   "source": [
    "# Extracting the nearest neighbors"
   ]
  },
  {
   "cell_type": "markdown",
   "metadata": {},
   "source": [
    "Recommender systems employ the concept of nearest neighbors to find good recommendations. Nearest neighbors refers to the process of finding the closest points to the input point from the given dataset. This is frequently used to build classification systems that classify a datapoint based on the proximity of the input data point to various classes. Let's see how to find the nearest neighbors of a given data point."
   ]
  },
  {
   "cell_type": "code",
   "execution_count": 2,
   "metadata": {},
   "outputs": [],
   "source": [
    "import numpy as np \n",
    "import matplotlib.pyplot as plt \n",
    "from sklearn.neighbors import NearestNeighbors"
   ]
  },
  {
   "cell_type": "markdown",
   "metadata": {},
   "source": [
    "Define sample 2D datapoints:"
   ]
  },
  {
   "cell_type": "code",
   "execution_count": 3,
   "metadata": {},
   "outputs": [],
   "source": [
    "# Input data \n",
    "X = np.array([[2.1, 1.3], [1.3, 3.2], [2.9, 2.5], [2.7, 5.4], [3.8, 0.9],  \n",
    "        [7.3, 2.1], [4.2, 6.5], [3.8, 3.7], [2.5, 4.1], [3.4, 1.9], \n",
    "        [5.7, 3.5], [6.1, 4.3], [5.1, 2.2], [6.2, 1.1]]) "
   ]
  },
  {
   "cell_type": "markdown",
   "metadata": {},
   "source": [
    "Define the number of nearest neighbors you want to extract:"
   ]
  },
  {
   "cell_type": "code",
   "execution_count": 31,
   "metadata": {},
   "outputs": [],
   "source": [
    "# Number of nearest neighbors \n",
    "k = 7"
   ]
  },
  {
   "cell_type": "markdown",
   "metadata": {},
   "source": [
    "Define a test datapoint that will be used to extract the K nearest neighbors:"
   ]
  },
  {
   "cell_type": "code",
   "execution_count": 32,
   "metadata": {},
   "outputs": [],
   "source": [
    "# Test datapoint  \n",
    "test_datapoint = [[4.3 , 2.7]]; "
   ]
  },
  {
   "cell_type": "markdown",
   "metadata": {},
   "source": [
    "Plot the input data using circular shaped black markers:"
   ]
  },
  {
   "cell_type": "code",
   "execution_count": 33,
   "metadata": {},
   "outputs": [
    {
     "data": {
      "text/plain": [
       "<matplotlib.collections.PathCollection at 0x13f767c10f0>"
      ]
     },
     "execution_count": 33,
     "metadata": {},
     "output_type": "execute_result"
    },
    {
     "data": {
      "image/png": "[encoded data removed]",
      "text/plain": [
       "<Figure size 432x288 with 1 Axes>"
      ]
     },
     "metadata": {
      "needs_background": "light"
     },
     "output_type": "display_data"
    }
   ],
   "source": [
    "# Plot input data  \n",
    "plt.figure() \n",
    "plt.title('Input data') \n",
    "plt.scatter(X[:,0], X[:,1], marker='o', s=75, color='blue') "
   ]
  },
  {
   "cell_type": "markdown",
   "metadata": {},
   "source": [
    "Create and train a K Nearest Neighbors model using the input data. Use this model to extract the nearest neighbors to our test data point:"
   ]
  },
  {
   "cell_type": "code",
   "execution_count": 34,
   "metadata": {},
   "outputs": [],
   "source": [
    "# Build K Nearest Neighbors model \n",
    "knn_model = NearestNeighbors(n_neighbors=k, algorithm='ball_tree').fit(X) \n",
    "distances, indices = knn_model.kneighbors(test_datapoint) "
   ]
  },
  {
   "cell_type": "markdown",
   "metadata": {},
   "source": [
    "Print the nearest neighbors extracted from the model:"
   ]
  },
  {
   "cell_type": "code",
   "execution_count": 35,
   "metadata": {},
   "outputs": [
    {
     "name": "stdout",
     "output_type": "stream",
     "text": [
      "\n",
      "K Nearest Neighbors:\n",
      "1 ==> [5.1 2.2]\n",
      "2 ==> [3.8 3.7]\n",
      "3 ==> [3.4 1.9]\n",
      "4 ==> [2.9 2.5]\n",
      "5 ==> [5.7 3.5]\n",
      "6 ==> [3.8 0.9]\n",
      "7 ==> [2.5 4.1]\n"
     ]
    }
   ],
   "source": [
    "# Print the 'k' nearest neighbors \n",
    "print(\"\\nK Nearest Neighbors:\") \n",
    "for rank, index in enumerate(indices[0][:k], start=1): \n",
    "    print(str(rank) + \" ==>\", X[index]) "
   ]
  },
  {
   "cell_type": "code",
   "execution_count": 36,
   "metadata": {},
   "outputs": [
    {
     "data": {
      "image/png": "[encoded data removed]",
      "text/plain": [
       "<Figure size 432x288 with 1 Axes>"
      ]
     },
     "metadata": {
      "needs_background": "light"
     },
     "output_type": "display_data"
    }
   ],
   "source": [
    "# Visualize the nearest neighbors along with the test datapoint  \n",
    "plt.figure() \n",
    "plt.title('Nearest neighbors') \n",
    "plt.scatter(X[:, 0], X[:, 1], marker='o', s=75, color='b') \n",
    "plt.scatter(X[indices][0][:][:, 0], X[indices][0][:][:, 1],  \n",
    "        marker='o', s=250, color='r', facecolors='none') \n",
    "\n",
    "test_datapoint = [4.3 , 2.7];\n",
    "plt.scatter(test_datapoint[0], test_datapoint[1], \n",
    "        marker='x', s=75, color='k') \n",
    " \n",
    "plt.show() "
   ]
  },
  {
   "cell_type": "code",
   "execution_count": null,
   "metadata": {},
   "outputs": [],
   "source": []
  }
 ],
 "metadata": {
  "kernelspec": {
   "display_name": "Python 3",
   "language": "python",
   "name": "python3"
  },
  "language_info": {
   "codemirror_mode": {
    "name": "ipython",
    "version": 3
   },
   "file_extension": ".py",
   "mimetype": "text/x-python",
   "name": "python",
   "nbconvert_exporter": "python",
   "pygments_lexer": "ipython3",
   "version": "3.6.7"
  }
 },
 "nbformat": 4,
 "nbformat_minor": 2
}
