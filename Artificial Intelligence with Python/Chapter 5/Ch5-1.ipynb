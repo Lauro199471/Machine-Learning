{
 "cells": [
  {
   "cell_type": "markdown",
   "metadata": {},
   "source": [
    "# Frame differencing\n"
   ]
  },
  {
   "cell_type": "markdown",
   "metadata": {},
   "source": [
    "Frame differencing is one of the simplest techniques that can be used to identify the moving parts in a video. When we are looking at a live video stream, the differences between consecutive frames captured from the stream gives us a lot of information. Let's see how we can take the differences between consecutive frames and display the differences. The code in this section requires an attached camera, so make sure you have a camera on your machine."
   ]
  },
  {
   "cell_type": "code",
   "execution_count": 1,
   "metadata": {},
   "outputs": [],
   "source": [
    "import cv2"
   ]
  },
  {
   "cell_type": "markdown",
   "metadata": {},
   "source": [
    "Define a function to compute the frame differences. Start by computing the difference between the current frame and the next frame:"
   ]
  },
  {
   "cell_type": "code",
   "execution_count": 2,
   "metadata": {},
   "outputs": [],
   "source": [
    "# Compute the frame differences \n",
    "def frame_diff(prev_frame, cur_frame, next_frame): \n",
    "    # Difference between the current frame and the next frame \n",
    "    diff_frames_1 = cv2.absdiff(next_frame, cur_frame) \n",
    "    \n",
    "    # Compute the difference between the current frame and the previous frame:\n",
    "    # Difference between the current frame and the previous frame \n",
    "    diff_frames_2 = cv2.absdiff(cur_frame, prev_frame) \n",
    "    \n",
    "    # Compute the bitwise-AND between the two difference frames and return it:\n",
    "    return cv2.bitwise_and(diff_frames_1, diff_frames_2) "
   ]
  },
  {
   "cell_type": "markdown",
   "metadata": {},
   "source": [
    "Define a function to grab the current frame from the webcam. Start by reading it from the video capture object:\n",
    "\n"
   ]
  },
  {
   "cell_type": "code",
   "execution_count": 3,
   "metadata": {},
   "outputs": [],
   "source": [
    "# Define a function to get the current frame from the webcam \n",
    "def get_frame(cap, scaling_factor): \n",
    "    # Read the current frame from the video capture object \n",
    "    _, frame = cap.read() \n",
    "    # Resize the frame based on the scaling factor and return it:\n",
    "    # Resize the image \n",
    "    frame = cv2.resize(frame, None, fx=scaling_factor,  \n",
    "            fy=scaling_factor, interpolation=cv2.INTER_AREA) \n",
    "    \n",
    "    # Convert the image to grayscale and return it:\n",
    "    # Convert to grayscale \n",
    "    gray = cv2.cvtColor(frame, cv2.COLOR_RGB2GRAY) \n",
    "    return gray  "
   ]
  },
  {
   "cell_type": "markdown",
   "metadata": {},
   "source": [
    " Define the main function and initialize the video capture object:"
   ]
  },
  {
   "cell_type": "code",
   "execution_count": 4,
   "metadata": {},
   "outputs": [],
   "source": [
    "# Define the video capture object \n",
    "cap = cv2.VideoCapture(0) "
   ]
  },
  {
   "cell_type": "markdown",
   "metadata": {},
   "source": [
    "Define the scaling factor to resize the images:\n"
   ]
  },
  {
   "cell_type": "code",
   "execution_count": 5,
   "metadata": {},
   "outputs": [],
   "source": [
    "# Define the scaling factor for the images \n",
    "scaling_factor = 1"
   ]
  },
  {
   "cell_type": "markdown",
   "metadata": {},
   "source": [
    "Grab the current frame, the next frame, and the frame after that:\n",
    "\n"
   ]
  },
  {
   "cell_type": "code",
   "execution_count": 6,
   "metadata": {},
   "outputs": [],
   "source": [
    "# Grab the current frame \n",
    "prev_frame = get_frame(cap, scaling_factor)  \n",
    "# Grab the next frame \n",
    "cur_frame = get_frame(cap, scaling_factor)  \n",
    "# Grab the frame after that \n",
    "next_frame = get_frame(cap, scaling_factor)  "
   ]
  },
  {
   "cell_type": "markdown",
   "metadata": {},
   "source": [
    "Iterate indefinitely until the user presses the Esc key. Start by computing the frame differences:"
   ]
  },
  {
   "cell_type": "code",
   "execution_count": 7,
   "metadata": {},
   "outputs": [],
   "source": [
    "# Keep reading the frames from the webcam  \n",
    "# until the user hits the 'Esc' key \n",
    "while True: \n",
    "    \n",
    "    # Display the frame difference \n",
    "    cv2.imshow('Object Movement', frame_diff(prev_frame,  \n",
    "            cur_frame, next_frame)) \n",
    "    \n",
    "    # Update the variables \n",
    "    prev_frame = cur_frame \n",
    "    cur_frame = next_frame  \n",
    "    \n",
    "    # Grab the next frame \n",
    "    next_frame = get_frame(cap, scaling_factor) \n",
    "\n",
    "    # Check if the user hit the 'Esc' key \n",
    "    key = cv2.waitKey(10) \n",
    "    if key == 27: \n",
    "        break \n",
    "# Once you exit the loop, make sure that all the windows are closed properly:\n",
    "# Close all the windows \n",
    "cv2.destroyAllWindows() \n",
    "cap.release()"
   ]
  },
  {
   "cell_type": "code",
   "execution_count": null,
   "metadata": {},
   "outputs": [],
   "source": []
  }
 ],
 "metadata": {
  "kernelspec": {
   "display_name": "Python 3",
   "language": "python",
   "name": "python3"
  },
  "language_info": {
   "codemirror_mode": {
    "name": "ipython",
    "version": 3
   },
   "file_extension": ".py",
   "mimetype": "text/x-python",
   "name": "python",
   "nbconvert_exporter": "python",
   "pygments_lexer": "ipython3",
   "version": "3.6.7"
  }
 },
 "nbformat": 4,
 "nbformat_minor": 2
}
