{
 "cells": [
  {
   "cell_type": "markdown",
   "metadata": {},
   "source": [
    "# Visualizing characters in an Optical Character Recognition database\n"
   ]
  },
  {
   "cell_type": "markdown",
   "metadata": {},
   "source": [
    "Artificial neural networks can use optical character recognition. It is perhaps one of the most commonly sited examples. Optical Character Recognition (OCR) is the process of recognizing handwritten characters in images. Before we jump into building that model, we need to familiarize ourselves with the dataset. We will be using the dataset available at  http://ai.stanford.edu/~btaskar/ocr . You will be downloading a file called letter.data. For convenience, this file has been provided to you in the code bundle. Let's see how to load that data and visualize the characters.\n",
    "\n"
   ]
  },
  {
   "cell_type": "code",
   "execution_count": 1,
   "metadata": {},
   "outputs": [],
   "source": [
    "import os \n",
    "import sys \n",
    " \n",
    "import cv2 \n",
    "import numpy as np "
   ]
  },
  {
   "cell_type": "markdown",
   "metadata": {},
   "source": [
    "Define the input file containing the OCR data:"
   ]
  },
  {
   "cell_type": "code",
   "execution_count": 2,
   "metadata": {},
   "outputs": [],
   "source": [
    "# Define the input file  \n",
    "input_file = 'letter.data'  "
   ]
  },
  {
   "cell_type": "markdown",
   "metadata": {},
   "source": [
    "Define the visualization and other parameters required to load the data from that file:\n",
    "\n"
   ]
  },
  {
   "cell_type": "code",
   "execution_count": 3,
   "metadata": {},
   "outputs": [],
   "source": [
    "# Define the visualization parameters  \n",
    "img_resize_factor = 12 \n",
    "start = 6 \n",
    "end = -1 \n",
    "height, width = 16, 8 \n"
   ]
  },
  {
   "cell_type": "markdown",
   "metadata": {},
   "source": [
    "Iterate through the lines of that file until the user presses the Esc key. Each line in that file is tab separated. Read each line and scale it up to 255:\n",
    "\n"
   ]
  },
  {
   "cell_type": "code",
   "execution_count": null,
   "metadata": {},
   "outputs": [],
   "source": [
    "# Iterate until the user presses the Esc key \n",
    "with open(input_file, 'r') as f: \n",
    "    for line in f.readlines(): \n",
    "        \n",
    "        # Read the data \n",
    "        data = np.array([255 * float(x) for x in line.split('\\t')[start:end]]) \n",
    "        \n",
    "        # Reshape the data into a 2D image \n",
    "        img = np.reshape(data, (height, width)) \n",
    "        \n",
    "        # Scale the image \n",
    "        img_scaled = cv2.resize(img, None, fx=img_resize_factor, fy=img_resize_factor) \n",
    "\n",
    "        # Display the image \n",
    "        cv2.imshow('Image', img_scaled) \n",
    "        \n",
    "        # Check if the user pressed the Esc key \n",
    "        c = cv2.waitKey() \n",
    "        if c == 27: \n",
    "            break \n"
   ]
  },
  {
   "cell_type": "markdown",
   "metadata": {},
   "source": [
    "\n"
   ]
  },
  {
   "cell_type": "code",
   "execution_count": 5,
   "metadata": {},
   "outputs": [],
   "source": [
    "\n"
   ]
  },
  {
   "cell_type": "code",
   "execution_count": null,
   "metadata": {},
   "outputs": [],
   "source": []
  }
 ],
 "metadata": {
  "kernelspec": {
   "display_name": "Python 3",
   "language": "python",
   "name": "python3"
  },
  "language_info": {
   "codemirror_mode": {
    "name": "ipython",
    "version": 3
   },
   "file_extension": ".py",
   "mimetype": "text/x-python",
   "name": "python",
   "nbconvert_exporter": "python",
   "pygments_lexer": "ipython3",
   "version": "3.6.7"
  }
 },
 "nbformat": 4,
 "nbformat_minor": 2
}
