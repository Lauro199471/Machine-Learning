{
 "cells": [
  {
   "cell_type": "markdown",
   "metadata": {},
   "source": [
    "# Constructing a single layer neural network"
   ]
  },
  {
   "cell_type": "markdown",
   "metadata": {},
   "source": [
    "A perceptron is a good start, but it cannot do much. The next step is to have a set of neurons act as a unit to see what we can achieve. Let's create a single neural network that consists of independent neurons acting on input data to produce the output.\n",
    "\n"
   ]
  },
  {
   "cell_type": "code",
   "execution_count": 2,
   "metadata": {},
   "outputs": [],
   "source": [
    "import numpy as np \n",
    "import matplotlib.pyplot as plt \n",
    "import neurolab as nl "
   ]
  },
  {
   "cell_type": "markdown",
   "metadata": {},
   "source": [
    "Each line in this file contains four numbers. The first two numbers form the datapoint and the last two numbers are the labels. Why do we need to assign two numbers for labels? Because we have four distinct classes in our dataset, so we need two bits to represent them. Let us go ahead and load the data:"
   ]
  },
  {
   "cell_type": "code",
   "execution_count": 4,
   "metadata": {},
   "outputs": [
    {
     "name": "stdout",
     "output_type": "stream",
     "text": [
      "[[1.  4.  0.  0. ]\n",
      " [1.1 3.9 0.  0. ]\n",
      " [1.2 4.1 0.  0. ]\n",
      " [0.9 3.7 0.  0. ]\n",
      " [7.  4.  0.  1. ]]\n"
     ]
    }
   ],
   "source": [
    "# Load input data \n",
    "text = np.loadtxt('data_simple_nn.txt') \n",
    "print(text[0:5])"
   ]
  },
  {
   "cell_type": "code",
   "execution_count": 5,
   "metadata": {},
   "outputs": [],
   "source": [
    "# Separate it into datapoints and labels \n",
    "data = text[:, 0:2] \n",
    "labels = text[:, 2:] "
   ]
  },
  {
   "cell_type": "code",
   "execution_count": 6,
   "metadata": {},
   "outputs": [
    {
     "data": {
      "text/plain": [
       "Text(0.5, 1.0, 'Input data')"
      ]
     },
     "execution_count": 6,
     "metadata": {},
     "output_type": "execute_result"
    },
    {
     "data": {
      "image/png": "[encoded data removed]",
      "text/plain": [
       "<Figure size 432x288 with 1 Axes>"
      ]
     },
     "metadata": {
      "needs_background": "light"
     },
     "output_type": "display_data"
    }
   ],
   "source": [
    "# Plot input data \n",
    "plt.figure() \n",
    "plt.scatter(data[:,0], data[:,1]) \n",
    "plt.xlabel('Dimension 1') \n",
    "plt.ylabel('Dimension 2') \n",
    "plt.title('Input data') "
   ]
  },
  {
   "cell_type": "code",
   "execution_count": 7,
   "metadata": {},
   "outputs": [],
   "source": [
    "# Minimum and maximum values for each dimension \n",
    "dim1_min, dim1_max = data[:,0].min(), data[:,0].max() \n",
    "dim2_min, dim2_max = data[:,1].min(), data[:,1].max() \n"
   ]
  },
  {
   "cell_type": "code",
   "execution_count": 8,
   "metadata": {},
   "outputs": [],
   "source": [
    "# Define the number of neurons in the output layer \n",
    "num_output = labels.shape[1] "
   ]
  },
  {
   "cell_type": "code",
   "execution_count": 9,
   "metadata": {},
   "outputs": [],
   "source": [
    "# Define a single-layer neural network  \n",
    "dim1 = [dim1_min, dim1_max] \n",
    "dim2 = [dim2_min, dim2_max] \n",
    "nn = nl.net.newp([dim1, dim2], num_output) \n"
   ]
  },
  {
   "cell_type": "code",
   "execution_count": 10,
   "metadata": {},
   "outputs": [
    {
     "name": "stdout",
     "output_type": "stream",
     "text": [
      "Epoch: 20; Error: 4.0;\n",
      "Epoch: 40; Error: 4.0;\n",
      "Epoch: 60; Error: 4.0;\n",
      "Epoch: 80; Error: 4.0;\n",
      "Epoch: 100; Error: 4.0;\n",
      "The maximum number of train epochs is reached\n"
     ]
    }
   ],
   "source": [
    "# Train the neural network \n",
    "error_progress = nn.train(data, labels, epochs=100, show=20, lr=0.01) \n"
   ]
  },
  {
   "cell_type": "code",
   "execution_count": 11,
   "metadata": {},
   "outputs": [
    {
     "data": {
      "image/png": "[encoded data removed]",
      "text/plain": [
       "<Figure size 432x288 with 1 Axes>"
      ]
     },
     "metadata": {
      "needs_background": "light"
     },
     "output_type": "display_data"
    }
   ],
   "source": [
    "# Plot the training progress \n",
    "plt.figure() \n",
    "plt.plot(error_progress) \n",
    "plt.xlabel('Number of epochs') \n",
    "plt.ylabel('Training error') \n",
    "plt.title('Training error progress') \n",
    "plt.grid() \n",
    " \n",
    "plt.show() \n"
   ]
  },
  {
   "cell_type": "code",
   "execution_count": 12,
   "metadata": {},
   "outputs": [
    {
     "name": "stdout",
     "output_type": "stream",
     "text": [
      "\n",
      "Test results:\n",
      "[0.4, 4.3] --> [0. 0.]\n",
      "[4.4, 0.6] --> [1. 0.]\n",
      "[4.7, 8.1] --> [1. 1.]\n"
     ]
    }
   ],
   "source": [
    "# Run the classifier on test datapoints \n",
    "print('\\nTest results:') \n",
    "data_test = [[0.4, 4.3], [4.4, 0.6], [4.7, 8.1]] \n",
    "for item in data_test: \n",
    "    print(item, '-->', nn.sim([item])[0]) \n"
   ]
  },
  {
   "cell_type": "code",
   "execution_count": null,
   "metadata": {},
   "outputs": [],
   "source": []
  }
 ],
 "metadata": {
  "kernelspec": {
   "display_name": "Python 3",
   "language": "python",
   "name": "python3"
  },
  "language_info": {
   "codemirror_mode": {
    "name": "ipython",
    "version": 3
   },
   "file_extension": ".py",
   "mimetype": "text/x-python",
   "name": "python",
   "nbconvert_exporter": "python",
   "pygments_lexer": "ipython3",
   "version": "3.6.7"
  }
 },
 "nbformat": 4,
 "nbformat_minor": 2
}
