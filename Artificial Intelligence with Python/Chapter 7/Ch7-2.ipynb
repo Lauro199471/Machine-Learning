{
 "cells": [
  {
   "cell_type": "code",
   "execution_count": 1,
   "metadata": {},
   "outputs": [],
   "source": [
    "import gym\n",
    "import argparse "
   ]
  },
  {
   "cell_type": "markdown",
   "metadata": {},
   "source": [
    "Define a function to parse the input arguments. We will be able to specify the type of environment we want to run:\n",
    "\n"
   ]
  },
  {
   "cell_type": "code",
   "execution_count": 2,
   "metadata": {},
   "outputs": [],
   "source": [
    "def build_arg_parser(): \n",
    "    parser = argparse.ArgumentParser(description='Run an environment') \n",
    "    parser.add_argument('--input-env', dest='input_env', required=True, \n",
    "            choices=['cartpole', 'mountaincar', 'pendulum', 'taxi', 'lake'],  \n",
    "            help='Specify the name of the environment') \n",
    "    return parser \n"
   ]
  },
  {
   "cell_type": "markdown",
   "metadata": {},
   "source": [
    "Create a mapping from input argument string to the names of the environments as specified in the OpenAI Gym package:\n",
    "\n",
    "\n"
   ]
  },
  {
   "cell_type": "code",
   "execution_count": 5,
   "metadata": {},
   "outputs": [],
   "source": [
    "name_map = {'cartpole': 'CartPole-v0',  \n",
    "            'mountaincar': 'MountainCar-v0', \n",
    "            'pendulum': 'Pendulum-v0', \n",
    "            'taxi': 'Taxi-v1', \n",
    "            'lake': 'FrozenLake-v0'} "
   ]
  },
  {
   "cell_type": "markdown",
   "metadata": {},
   "source": [
    "Create the environment based on the input argument and reset it:"
   ]
  },
  {
   "cell_type": "code",
   "execution_count": 6,
   "metadata": {},
   "outputs": [
    {
     "name": "stderr",
     "output_type": "stream",
     "text": [
      "C:\\Users\\Lauro Cabral\\Anaconda3\\lib\\site-packages\\gym\\envs\\registration.py:14: PkgResourcesDeprecationWarning: Parameters to load are deprecated.  Call .resolve and .require separately.\n",
      "  result = entry_point.load(False)\n"
     ]
    },
    {
     "data": {
      "text/plain": [
       "array([-0.83000313,  0.55775873, -0.07355788])"
      ]
     },
     "execution_count": 6,
     "metadata": {},
     "output_type": "execute_result"
    }
   ],
   "source": [
    "input_env = 'pendulum';\n",
    "# Create the environment and reset it \n",
    "env = gym.make(name_map[input_env]) \n",
    "env.reset() "
   ]
  },
  {
   "cell_type": "markdown",
   "metadata": {},
   "source": [
    "Iterate 1000 times and take action during each step:\n",
    "\n"
   ]
  },
  {
   "cell_type": "code",
   "execution_count": 7,
   "metadata": {},
   "outputs": [],
   "source": [
    "# Iterate 1000 times \n",
    "for _ in range(1000): \n",
    "    # Render the environment \n",
    "    env.render() \n",
    "    # take a random action \n",
    "    env.step(env.action_space.sample())  \n"
   ]
  },
  {
   "cell_type": "code",
   "execution_count": null,
   "metadata": {},
   "outputs": [],
   "source": []
  }
 ],
 "metadata": {
  "kernelspec": {
   "display_name": "Python 3",
   "language": "python",
   "name": "python3"
  },
  "language_info": {
   "codemirror_mode": {
    "name": "ipython",
    "version": 3
   },
   "file_extension": ".py",
   "mimetype": "text/x-python",
   "name": "python",
   "nbconvert_exporter": "python",
   "pygments_lexer": "ipython3",
   "version": "3.6.7"
  }
 },
 "nbformat": 4,
 "nbformat_minor": 2
}
