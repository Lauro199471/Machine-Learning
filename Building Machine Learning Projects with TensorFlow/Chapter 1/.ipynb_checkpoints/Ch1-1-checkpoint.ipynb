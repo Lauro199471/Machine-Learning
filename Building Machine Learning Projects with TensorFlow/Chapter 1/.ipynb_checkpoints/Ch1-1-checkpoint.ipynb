{
 "cells": [
  {
   "cell_type": "markdown",
   "metadata": {},
   "source": [
    "TensorFlow bases its data management on tensors. Tensors are concepts from the field of mathematics, and are developed as a generalization of the linear algebra terms of vectors and matrices.\n",
    "\n"
   ]
  },
  {
   "cell_type": "markdown",
   "metadata": {},
   "source": [
    "## Tensor rank"
   ]
  },
  {
   "cell_type": "markdown",
   "metadata": {},
   "source": [
    "Tensor ranks represent the dimensional aspect of a tensor, but is not the same as a matrix rank. It represents the quantity of dimensions in which the tensor lives, and is not a precise measure of the extension of the tensor in rows/columns or spatial equivalents.\n",
    "\n",
    "A rank one tensor is the equivalent of a vector, and a rank one tensor is a matrix. For a rank two tensor you can access any element with the syntax t[i, j]. For a rank three tensor you would need to address an element with t[i, j, k], and so on.\n",
    "\n"
   ]
  },
  {
   "cell_type": "markdown",
   "metadata": {},
   "source": [
    "In the following example, we will create a tensor, and access one of its components:"
   ]
  },
  {
   "cell_type": "code",
   "execution_count": 1,
   "metadata": {},
   "outputs": [
    {
     "name": "stdout",
     "output_type": "stream",
     "text": [
      "5\n",
      "shape:  Tensor(\"Const:0\", shape=(2, 2, 2), dtype=int32)\n"
     ]
    }
   ],
   "source": [
    "import tensorflow as tf\n",
    "sess = tf.Session()\n",
    "tens1 = tf.constant([[[1,2],[2,3]],[[3,4],[5,6]]]) \n",
    "print(sess.run(tens1)[1,1,0])\n",
    "print(\"shape: \" , tens1)"
   ]
  },
  {
   "cell_type": "markdown",
   "metadata": {},
   "source": [
    "## Creating new tensors\n"
   ]
  },
  {
   "cell_type": "markdown",
   "metadata": {},
   "source": [
    "We can either create our own tensors, or derivate them from the well-known numpy library. In the following example, we create some numpy arrays, and do some basic math with them:\n",
    "\n"
   ]
  },
  {
   "cell_type": "code",
   "execution_count": 2,
   "metadata": {},
   "outputs": [],
   "source": [
    "import tensorflow as tf\n",
    "import numpy as np\n",
    "x = tf.constant(np.random.rand(32).astype(np.float32))\n",
    "y=  tf.constant ([1,2,3])"
   ]
  },
  {
   "cell_type": "markdown",
   "metadata": {},
   "source": [
    "Client programs interact with the TensorFlow system by creating a Session. The Session object is a representation of the environment in which the computation will run. The Session object starts empty, and when the programmer creates the different operations and tensors, they will be added automatically to the Session, which will do no computation until the Run() method is called.\n",
    "\n"
   ]
  },
  {
   "cell_type": "code",
   "execution_count": 4,
   "metadata": {},
   "outputs": [],
   "source": [
    "s = tf.Session()"
   ]
  },
  {
   "cell_type": "markdown",
   "metadata": {},
   "source": [
    "# Basic tensor methods"
   ]
  },
  {
   "cell_type": "markdown",
   "metadata": {},
   "source": [
    "### Simple matrix operations\n"
   ]
  },
  {
   "cell_type": "markdown",
   "metadata": {},
   "source": [
    "TensorFlow supports many of the more common matrix operations, such as transpose, multiplication, getting the determinant, and inverse.\n",
    "\n"
   ]
  },
  {
   "cell_type": "code",
   "execution_count": 5,
   "metadata": {},
   "outputs": [],
   "source": [
    "sess = tf.InteractiveSession()"
   ]
  },
  {
   "cell_type": "code",
   "execution_count": 6,
   "metadata": {},
   "outputs": [],
   "source": [
    "x = tf.constant([[2, 5, 3, -5], \n",
    "                  [0, 3,-2,  5], \n",
    "                  [4, 3, 5,  3], \n",
    "                  [6, 1, 4,  0]]) "
   ]
  },
  {
   "cell_type": "code",
   "execution_count": 7,
   "metadata": {},
   "outputs": [],
   "source": [
    "y = tf.constant([[4, -7, 4, -3, 4], \n",
    "                  [6, 4,-7,  4, 7], \n",
    "                  [2, 3, 2,  1, 4], \n",
    "                  [1, 5, 5,  5, 2]])"
   ]
  },
  {
   "cell_type": "code",
   "execution_count": 8,
   "metadata": {},
   "outputs": [],
   "source": [
    "floatx = tf.constant([[2., 5., 3., -5.], \n",
    "                       [0., 3.,-2.,  5.], \n",
    "                       [4., 3., 5.,  3.], \n",
    "                       [6., 1., 4.,  0.]])"
   ]
  },
  {
   "cell_type": "code",
   "execution_count": 17,
   "metadata": {},
   "outputs": [
    {
     "name": "stdout",
     "output_type": "stream",
     "text": [
      "[[ 2  5  3 -5]\n",
      " [ 0  3 -2  5]\n",
      " [ 4  3  5  3]\n",
      " [ 6  1  4  0]]\n",
      "\n",
      "\n",
      "[[ 2  0  4  6]\n",
      " [ 5  3  3  1]\n",
      " [ 3 -2  5  4]\n",
      " [-5  5  3  0]]\n"
     ]
    }
   ],
   "source": [
    "print(sess.run(x))\n",
    "print(\"\\n\")\n",
    "print(tf.transpose(x).eval()) # Transpose matrix"
   ]
  },
  {
   "cell_type": "code",
   "execution_count": 18,
   "metadata": {},
   "outputs": [
    {
     "name": "stdout",
     "output_type": "stream",
     "text": [
      "[[ 39 -10 -46  -8  45]\n",
      " [ 19  31   0  35  23]\n",
      " [ 47  14  20  20  63]\n",
      " [ 38 -26  25 -10  47]]\n"
     ]
    }
   ],
   "source": [
    "print(tf.matmul(x, y).eval()) # Matrix multiplication"
   ]
  },
  {
   "cell_type": "code",
   "execution_count": 19,
   "metadata": {},
   "outputs": [
    {
     "name": "stdout",
     "output_type": "stream",
     "text": [
      "818.0001\n"
     ]
    }
   ],
   "source": [
    "print(tf.matrix_determinant(floatx).eval()) # Matrix determinant"
   ]
  },
  {
   "cell_type": "code",
   "execution_count": 20,
   "metadata": {},
   "outputs": [
    {
     "name": "stdout",
     "output_type": "stream",
     "text": [
      "[[-0.00855745  0.10513447 -0.18948655  0.29584354]\n",
      " [ 0.12958434  0.12224938  0.01222495 -0.05134475]\n",
      " [-0.01955992 -0.18826404  0.2811736  -0.1809291 ]\n",
      " [-0.08557458  0.05134474  0.10513448 -0.0415648 ]]\n"
     ]
    }
   ],
   "source": [
    "print(tf.matrix_inverse(floatx).eval()) # Matrix inverse"
   ]
  },
  {
   "cell_type": "code",
   "execution_count": null,
   "metadata": {},
   "outputs": [],
   "source": [
    "print(tf.matrix_solve(floatx, [[1],[1],[1],[1]]).eval())# Solve Matrix system"
   ]
  }
 ],
 "metadata": {
  "kernelspec": {
   "display_name": "Python 3",
   "language": "python",
   "name": "python3"
  },
  "language_info": {
   "codemirror_mode": {
    "name": "ipython",
    "version": 3
   },
   "file_extension": ".py",
   "mimetype": "text/x-python",
   "name": "python",
   "nbconvert_exporter": "python",
   "pygments_lexer": "ipython3",
   "version": "3.6.7"
  }
 },
 "nbformat": 4,
 "nbformat_minor": 2
}
