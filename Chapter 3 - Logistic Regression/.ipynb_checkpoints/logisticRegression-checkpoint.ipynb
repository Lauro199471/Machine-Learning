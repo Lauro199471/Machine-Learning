{
 "cells": [
  {
   "cell_type": "code",
   "execution_count": 1,
   "metadata": {},
   "outputs": [],
   "source": [
    "import numpy as np\n",
    "import pandas as pd\n",
    "\n",
    "import matplotlib.pyplot as plt\n",
    "import seaborn as sns\n",
    "%matplotlib inline\n",
    "\n",
    "import random\n",
    "from pprint import pprint"
   ]
  },
  {
   "cell_type": "code",
   "execution_count": 15,
   "metadata": {},
   "outputs": [
    {
     "ename": "TypeError",
     "evalue": "'RangeIndex' object is not callable",
     "output_type": "error",
     "traceback": [
      "\u001b[0;31m---------------------------------------------------------------------------\u001b[0m",
      "\u001b[0;31mTypeError\u001b[0m                                 Traceback (most recent call last)",
      "\u001b[0;32m<ipython-input-15-69ae8e4f8e09>\u001b[0m in \u001b[0;36m<module>\u001b[0;34m()\u001b[0m\n\u001b[1;32m      1\u001b[0m \u001b[0mpandaData\u001b[0m \u001b[0;34m=\u001b[0m \u001b[0mpd\u001b[0m\u001b[0;34m.\u001b[0m\u001b[0mread_csv\u001b[0m\u001b[0;34m(\u001b[0m\u001b[0;34m\"test-score.csv\"\u001b[0m\u001b[0;34m)\u001b[0m\u001b[0;34m\u001b[0m\u001b[0m\n\u001b[1;32m      2\u001b[0m \u001b[0mpandaData\u001b[0m\u001b[0;34m.\u001b[0m\u001b[0mhead\u001b[0m\u001b[0;34m(\u001b[0m\u001b[0;34m)\u001b[0m\u001b[0;34m\u001b[0m\u001b[0m\n\u001b[0;32m----> 3\u001b[0;31m \u001b[0mpandaData\u001b[0m \u001b[0;34m=\u001b[0m \u001b[0mpandaData\u001b[0m\u001b[0;34m.\u001b[0m\u001b[0mindex\u001b[0m\u001b[0;34m(\u001b[0m\u001b[0mloc\u001b[0m \u001b[0;34m=\u001b[0m \u001b[0;36m0\u001b[0m \u001b[0;34m,\u001b[0m \u001b[0mcolumn\u001b[0m\u001b[0;34m=\u001b[0m\u001b[0;34m'A'\u001b[0m\u001b[0;34m,\u001b[0m \u001b[0mvalue\u001b[0m\u001b[0;34m=\u001b[0m\u001b[0mnp\u001b[0m\u001b[0;34m.\u001b[0m\u001b[0mzeros\u001b[0m\u001b[0;34m(\u001b[0m\u001b[0;36m100\u001b[0m\u001b[0;34m)\u001b[0m\u001b[0;34m)\u001b[0m\u001b[0;34m;\u001b[0m\u001b[0;34m\u001b[0m\u001b[0m\n\u001b[0m",
      "\u001b[0;31mTypeError\u001b[0m: 'RangeIndex' object is not callable"
     ]
    }
   ],
   "source": [
    "pandaData = pd.read_csv(\"test-score.csv\")\n",
    "pandaData.head() \n",
    "pandaData = pandaData.index(loc = 0 , column='A', value=np.zeros(100));"
   ]
  },
  {
   "cell_type": "code",
   "execution_count": 3,
   "metadata": {},
   "outputs": [
    {
     "data": {
      "image/png": "[encoded data removed]",
      "text/plain": [
       "<Figure size 431.75x360 with 1 Axes>"
      ]
     },
     "metadata": {
      "needs_background": "light"
     },
     "output_type": "display_data"
    }
   ],
   "source": [
    "sns.lmplot(data = pandaData , x = \"Exam1\" , y = \"Exam2\" , hue = \"Pass_NoPass\" , fit_reg = False , height = 5, aspect = 1);"
   ]
  },
  {
   "cell_type": "markdown",
   "metadata": {},
   "source": [
    "# Sigmod Function\n",
    "This makes the sigmod function"
   ]
  },
  {
   "cell_type": "code",
   "execution_count": 4,
   "metadata": {},
   "outputs": [],
   "source": [
    "def sigmoidFunction(x):\n",
    "    g = 1.0 / (1 + np.exp(-x))\n",
    "    return g;"
   ]
  },
  {
   "cell_type": "code",
   "execution_count": 5,
   "metadata": {},
   "outputs": [
    {
     "data": {
      "image/png": "[encoded data removed]",
      "text/plain": [
       "<Figure size 432x288 with 1 Axes>"
      ]
     },
     "metadata": {
      "needs_background": "light"
     },
     "output_type": "display_data"
    }
   ],
   "source": [
    "xLine = np.linspace(start = -10, stop = 10 , num=1000)\n",
    "yLine = sigmoidFunction(xLine);\n",
    "plt.scatter(xLine , yLine , color='r')\n",
    "plt.xlabel('X', fontsize=18)\n",
    "plt.ylabel('Sig(X)', fontsize=16)\n",
    "plt.show()\n"
   ]
  },
  {
   "cell_type": "markdown",
   "metadata": {},
   "source": [
    "# Hypothesis\n",
    "A function takes inputs and returns outputs. To generate probabilities, logistic regression uses a function that gives outputs between 0 and 1 for all values of X. There are many functions that meet this description, but the used in this case is the logistic function. From here we will refer to it as sigmoid.\n",
    "![1_p4hyc2vwjqolwwl_mv0vjw](https://user-images.githubusercontent.com/13907836/47976539-c9ff3880-e067-11e8-9fc2-6b6372864cf5.png)"
   ]
  },
  {
   "cell_type": "code",
   "execution_count": 6,
   "metadata": {},
   "outputs": [],
   "source": [
    "def hpothesisFunction():\n",
    "    \n",
    "    return"
   ]
  },
  {
   "cell_type": "code",
   "execution_count": 7,
   "metadata": {},
   "outputs": [
    {
     "name": "stdout",
     "output_type": "stream",
     "text": [
      "[0. 0. 0. 1. 1. 0. 1. 1. 1. 1. 0. 0. 1. 1. 0. 1. 1. 0. 1. 1. 0. 1. 0. 0.\n",
      " 1. 1. 1. 0. 0. 0. 1. 1. 0. 1. 0. 0. 0. 1. 0. 0. 1. 0. 1. 0. 0. 0. 1. 1.\n",
      " 1. 1. 1. 1. 1. 0. 0. 0. 1. 0. 1. 1. 1. 0. 0. 0. 0. 0. 1. 0. 1. 1. 0. 1.\n",
      " 1. 1. 1. 1. 1. 1. 0. 0. 1. 1. 1. 1. 1. 1. 0. 1. 1. 0. 1. 1. 0. 1. 1. 1.\n",
      " 1. 1. 1. 1.]\n",
      "[0.5 0.5 0.5 0.5 0.5 0.5 0.5 0.5 0.5 0.5 0.5 0.5 0.5 0.5 0.5 0.5 0.5 0.5\n",
      " 0.5 0.5 0.5 0.5 0.5 0.5 0.5 0.5 0.5 0.5 0.5 0.5 0.5 0.5 0.5 0.5 0.5 0.5\n",
      " 0.5 0.5 0.5 0.5 0.5 0.5 0.5 0.5 0.5 0.5 0.5 0.5 0.5 0.5 0.5 0.5 0.5 0.5\n",
      " 0.5 0.5 0.5 0.5 0.5 0.5 0.5 0.5 0.5 0.5 0.5 0.5 0.5 0.5 0.5 0.5 0.5 0.5\n",
      " 0.5 0.5 0.5 0.5 0.5 0.5 0.5 0.5 0.5 0.5 0.5 0.5 0.5 0.5 0.5 0.5 0.5 0.5\n",
      " 0.5 0.5 0.5 0.5 0.5 0.5 0.5 0.5 0.5 0.5]\n"
     ]
    }
   ],
   "source": [
    "npData = pandaData.values; # Covert to NP Array\n",
    "X = npData[: , 0:2];\n",
    "y = npData[: , -1];\n",
    "\n",
    "print(y)\n",
    "M , numOfFeatures = X.shape;\n",
    "\n",
    "thetas = np.zeros(numOfFeatures)\n",
    "\n",
    "# Dot product of Data(M x N) * (N x 1) = (M x 1)\n",
    "z = np.dot(X , thetas);\n",
    "h = sigmoidFunction(z);\n",
    "print(h)"
   ]
  },
  {
   "cell_type": "markdown",
   "metadata": {},
   "source": [
    "# Loss function\n",
    "Functions have parameters/weights (represented by theta in our notation) and we want to find the best values for them. To start we pick random values and we need a way to measure how well the algorithm performs using those random weights. That measure is computed using the loss function, defined as:\n",
    "![1_fdxes8iv_43q8caltcjnow](https://user-images.githubusercontent.com/13907836/47976510-9d4b2100-e067-11e8-864c-3cdb99caa8e8.png)"
   ]
  },
  {
   "cell_type": "code",
   "execution_count": 8,
   "metadata": {},
   "outputs": [],
   "source": [
    "def loss(h, y):\n",
    "    l = (-y * np.log(h) - (1 - y) * np.log(1 - h));\n",
    "    calcLoss = l.mean();\n",
    "    return calcLoss"
   ]
  },
  {
   "cell_type": "code",
   "execution_count": 9,
   "metadata": {},
   "outputs": [
    {
     "name": "stdout",
     "output_type": "stream",
     "text": [
      "0.6931471805599453\n"
     ]
    }
   ],
   "source": [
    "a = loss(h , y)\n",
    "print(a)"
   ]
  },
  {
   "cell_type": "markdown",
   "metadata": {},
   "source": [
    "# Gradient descent\n",
    "Our goal is to minimize the loss function and the way we have to achive it is by increasing/decreasing the weights, i.e. fitting them. The question is, how do we know what parameters should be biggers and what parameters should be smallers? The answer is given by the derivative of the loss function with respect to each weight. It tells us how loss would change if we modified the parameters.\n",
    "![1_gobkggbrwdaovfaan_hjxq](https://user-images.githubusercontent.com/13907836/47976845-67a73780-e069-11e8-8e73-2158c0cc8e5d.png)\n",
    "\n"
   ]
  },
  {
   "cell_type": "code",
   "execution_count": 10,
   "metadata": {},
   "outputs": [
    {
     "name": "stdout",
     "output_type": "stream",
     "text": [
      "[-12.00921659 -11.26284221]\n"
     ]
    }
   ],
   "source": [
    "nSamples = X.shape[0];\n",
    "gradient = np.dot(X.T, (h - y)) / nSamples\n",
    "print(gradient)"
   ]
  },
  {
   "cell_type": "markdown",
   "metadata": {},
   "source": [
    "Then we update the weights by substracting to them the derivative times the learning rate."
   ]
  },
  {
   "cell_type": "code",
   "execution_count": 11,
   "metadata": {},
   "outputs": [
    {
     "name": "stdout",
     "output_type": "stream",
     "text": [
      "Theta[ 0 ]:  [0.12009217 0.11262842]\n",
      "Theta[ 10000 ]:  [ 0.14783561 -0.32547179]\n",
      "Theta[ 20000 ]:  [0.56079203 0.10236272]\n",
      "Theta[ 30000 ]:  [ 0.35266283 -0.11611885]\n",
      "Theta[ 40000 ]:  [ 0.14783561 -0.32547179]\n",
      "Theta[ 50000 ]:  [0.56079203 0.10236272]\n",
      "Theta[ 60000 ]:  [ 0.35266283 -0.11611885]\n",
      "Theta[ 70000 ]:  [ 0.14783561 -0.32547179]\n",
      "Theta[ 80000 ]:  [0.56079203 0.10236272]\n",
      "Theta[ 90000 ]:  [ 0.35266283 -0.11611885]\n",
      "Theta[ 100000 ]:  [ 0.14783561 -0.32547179]\n",
      "Theta[ 110000 ]:  [0.56079203 0.10236272]\n",
      "Theta[ 120000 ]:  [ 0.35266283 -0.11611885]\n",
      "Theta[ 130000 ]:  [ 0.14783561 -0.32547179]\n",
      "Theta[ 140000 ]:  [0.56079203 0.10236272]\n",
      "Theta[ 150000 ]:  [ 0.35266283 -0.11611885]\n",
      "Theta[ 160000 ]:  [ 0.14783561 -0.32547179]\n",
      "Theta[ 170000 ]:  [0.56079203 0.10236272]\n",
      "Theta[ 180000 ]:  [ 0.35266283 -0.11611885]\n",
      "Theta[ 190000 ]:  [ 0.14783561 -0.32547179]\n",
      "Theta[ 200000 ]:  [0.56079203 0.10236272]\n",
      "Theta[ 210000 ]:  [ 0.35266283 -0.11611885]\n",
      "Theta[ 220000 ]:  [ 0.14783561 -0.32547179]\n",
      "Theta[ 230000 ]:  [0.56079203 0.10236272]\n",
      "Theta[ 240000 ]:  [ 0.35266283 -0.11611885]\n",
      "Theta[ 250000 ]:  [ 0.14783561 -0.32547179]\n",
      "Theta[ 260000 ]:  [0.56079203 0.10236272]\n",
      "Theta[ 270000 ]:  [ 0.35266283 -0.11611885]\n",
      "Theta[ 280000 ]:  [ 0.14783561 -0.32547179]\n",
      "Theta[ 290000 ]:  [0.56079203 0.10236272]\n"
     ]
    }
   ],
   "source": [
    "npData = pandaData.values; # Covert to NP Array\n",
    "X = npData[: , 0:2];\n",
    "y = npData[: , -1];\n",
    "\n",
    "# weights initialization\n",
    "theta = np.zeros(X.shape[1])\n",
    "lr = 0.01;\n",
    "\n",
    "num_iter = 300000\n",
    "\n",
    "for i in range(num_iter):\n",
    "    z = np.dot(X,theta)\n",
    "    h = sigmoidFunction(z);\n",
    "    gradient = np.dot(X.T, (h - y)) / y.size;\n",
    "    theta -= lr * gradient;\n",
    "\n",
    "    if(i % 10000 == 0):\n",
    "      #  z = np.dot(X, self.theta)\n",
    "     #   h = self.__sigmoid(z)\n",
    "        print('Theta[',i,']: ', theta);"
   ]
  },
  {
   "cell_type": "markdown",
   "metadata": {},
   "source": [
    "# Plot"
   ]
  },
  {
   "cell_type": "code",
   "execution_count": 12,
   "metadata": {},
   "outputs": [
    {
     "name": "stdout",
     "output_type": "stream",
     "text": [
      "Final Theta:  [0.56079203 0.10236272]\n"
     ]
    },
    {
     "data": {
      "text/plain": [
       "<matplotlib.collections.PathCollection at 0x7efe46146e80>"
      ]
     },
     "execution_count": 12,
     "metadata": {},
     "output_type": "execute_result"
    },
    {
     "data": {
      "image/png": "[encoded data removed]",
      "text/plain": [
       "<Figure size 432x288 with 1 Axes>"
      ]
     },
     "metadata": {
      "needs_background": "light"
     },
     "output_type": "display_data"
    }
   ],
   "source": [
    "print(\"Final Theta: \" , theta);\n",
    "x = npData[:, 0];\n",
    "y = npData[:, 1];\n",
    "\n",
    "data_pass_label   = np.where(pandaData[\"Pass_NoPass\"] == True)[0]\n",
    "data_nopass_label = np.where(pandaData[\"Pass_NoPass\"] == False)[0]\n",
    "\n",
    "plt.scatter(x[data_pass_label] , y[data_pass_label] , color='b')\n",
    "plt.scatter(x[data_nopass_label] , y[data_nopass_label] , color='r')\n",
    "\n"
   ]
  },
  {
   "cell_type": "code",
   "execution_count": null,
   "metadata": {},
   "outputs": [],
   "source": []
  }
 ],
 "metadata": {
  "kernelspec": {
   "display_name": "Python 3",
   "language": "python",
   "name": "python3"
  },
  "language_info": {
   "codemirror_mode": {
    "name": "ipython",
    "version": 3
   },
   "file_extension": ".py",
   "mimetype": "text/x-python",
   "name": "python",
   "nbconvert_exporter": "python",
   "pygments_lexer": "ipython3",
   "version": "3.7.0"
  }
 },
 "nbformat": 4,
 "nbformat_minor": 2
}
