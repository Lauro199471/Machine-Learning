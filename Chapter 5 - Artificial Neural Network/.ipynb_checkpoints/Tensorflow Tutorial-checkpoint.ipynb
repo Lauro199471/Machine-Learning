{
 "cells": [
  {
   "cell_type": "code",
   "execution_count": 1,
   "metadata": {},
   "outputs": [],
   "source": [
    "import tensorflow as tf"
   ]
  },
  {
   "cell_type": "markdown",
   "metadata": {},
   "source": [
    "A rank one tensor is the equivalent of a vector, and a rank one tensor is a matrix. For a rank two tensor you can access any element with the syntax t[i, j]. For a rank three tensor you would need to address an element with t[i, j, k], and so on.\n",
    "\n",
    "\n",
    "In the following example, we will create a tensor, and access one of its components:"
   ]
  },
  {
   "cell_type": "code",
   "execution_count": 9,
   "metadata": {},
   "outputs": [
    {
     "name": "stdout",
     "output_type": "stream",
     "text": [
      "matr[0] =  [[1, 2], [2, 3]]\n",
      "matr[0][0] =  [1, 2]\n",
      "matr[0][0][0] =  1\n"
     ]
    }
   ],
   "source": [
    "matr = [\n",
    "    # 1,x,x\n",
    "    [\n",
    "     #1,1,x\n",
    "     [1,2],\n",
    "     [2,3]\n",
    "    ] , \n",
    "    # 2,x,x\n",
    "    [\n",
    "     #2,1,x\n",
    "     [3,4],\n",
    "     [5,6]\n",
    "    ]\n",
    "]\n",
    "print(\"matr[0] = \" , matr[0])\n",
    "print(\"matr[0][0] = \" , matr[0][0])\n",
    "print(\"matr[0][0][0] = \" , matr[0][0][0])"
   ]
  },
  {
   "cell_type": "code",
   "execution_count": 12,
   "metadata": {},
   "outputs": [],
   "source": [
    "tens1 = tf.constant(matr) "
   ]
  },
  {
   "cell_type": "code",
   "execution_count": 15,
   "metadata": {},
   "outputs": [
    {
     "name": "stdout",
     "output_type": "stream",
     "text": [
      "4\n"
     ]
    }
   ],
   "source": [
    "sess = tf.Session()\n",
    "print (sess.run(tens1)[1,0,1]) "
   ]
  },
  {
   "cell_type": "markdown",
   "metadata": {},
   "source": [
    "# Creating new tensors\n",
    "We can either create our own tensors, or derivate them from the well-known numpy library. In the following example, we create some numpy arrays, and do some basic math with them:"
   ]
  },
  {
   "cell_type": "code",
   "execution_count": 16,
   "metadata": {},
   "outputs": [],
   "source": [
    "import numpy as np\n",
    "x = tf.constant(np.random.rand(32).astype(np.float32))\n",
    "y =  tf.constant ([1,2,3])"
   ]
  },
  {
   "cell_type": "markdown",
   "metadata": {},
   "source": [
    "## From numpy to tensors and vice versa\n",
    "TensorFlow is interoperable with numpy, and normally the eval() function calls will return a numpy object, ready to be worked with the standard numerical tools.\n",
    "\n",
    "In this example, we build two numpy arrays, and convert them to tensors:\n",
    "\n"
   ]
  },
  {
   "cell_type": "code",
   "execution_count": 19,
   "metadata": {},
   "outputs": [],
   "source": [
    "sess = tf.Session() #start a new Session Object \n",
    "x_data = np.array([[1.,2.,3.], [3.,2.,6.]]) # 2x3 matrix \n",
    "x = tf.convert_to_tensor(x_data, dtype=tf.float32) #Finally, we create the tensor, starting from the fload 3x matrix "
   ]
  },
  {
   "cell_type": "code",
   "execution_count": 20,
   "metadata": {},
   "outputs": [
    {
     "name": "stdout",
     "output_type": "stream",
     "text": [
      "[[1. 2. 3.]\n",
      " [3. 2. 6.]]\n"
     ]
    }
   ],
   "source": [
    "print(sess.run(x))"
   ]
  },
  {
   "cell_type": "code",
   "execution_count": null,
   "metadata": {},
   "outputs": [],
   "source": []
  }
 ],
 "metadata": {
  "kernelspec": {
   "display_name": "Python 3",
   "language": "python",
   "name": "python3"
  },
  "language_info": {
   "codemirror_mode": {
    "name": "ipython",
    "version": 3
   },
   "file_extension": ".py",
   "mimetype": "text/x-python",
   "name": "python",
   "nbconvert_exporter": "python",
   "pygments_lexer": "ipython3",
   "version": "3.6.7"
  }
 },
 "nbformat": 4,
 "nbformat_minor": 2
}
