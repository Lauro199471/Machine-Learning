{
 "cells": [
  {
   "cell_type": "code",
   "execution_count": 1,
   "metadata": {},
   "outputs": [],
   "source": [
    "import numpy as np"
   ]
  },
  {
   "cell_type": "markdown",
   "metadata": {},
   "source": [
    "# Find the Guess based on Weights and Input"
   ]
  },
  {
   "cell_type": "code",
   "execution_count": 2,
   "metadata": {},
   "outputs": [],
   "source": [
    "# This is the activation function\n",
    "def sign(someNum):\n",
    "    if(someNum >= 0):\n",
    "        return 1\n",
    "    else:\n",
    "        return -1"
   ]
  },
  {
   "cell_type": "code",
   "execution_count": 3,
   "metadata": {},
   "outputs": [
    {
     "name": "stdout",
     "output_type": "stream",
     "text": [
      "Sign(10) =  1\n",
      "Sign(00) =  1\n",
      "Sign(-10) =  -1\n"
     ]
    }
   ],
   "source": [
    "## Test Defination\n",
    "print(\"Sign(10) = \",sign(10));\n",
    "print(\"Sign(00) = \",sign(0));\n",
    "print(\"Sign(-10) = \",sign(-10));"
   ]
  },
  {
   "cell_type": "code",
   "execution_count": 11,
   "metadata": {},
   "outputs": [],
   "source": [
    "def guess(X,thetas):\n",
    "    # Transpose theta because I want X to be multiples of Theta\n",
    "    thetaTranspose = np.transpose(thetas);\n",
    "    dot_theta_x = np.dot(thetaTranspose , X);\n",
    "    print(\"Dot Product = \\n\" , dot_theta_x);\n",
    "    sumArray = np.sum(dot_theta_x);\n",
    "    print(\"Sum = \" , sumArray);\n",
    "    OutputGuess = sign(sumArray);\n",
    "    return OutputGuess"
   ]
  },
  {
   "cell_type": "code",
   "execution_count": 13,
   "metadata": {},
   "outputs": [
    {
     "name": "stdout",
     "output_type": "stream",
     "text": [
      "Dot Product = \n",
      " [[ 24 -46]\n",
      " [ 36 -69]]\n",
      "Sum =  -55\n",
      "-1\n"
     ]
    }
   ],
   "source": [
    "X = [[12 , 23]]; # 1 , M\n",
    "theta = [[2 , 3]]; # 1 , M\n",
    "guessO = guess(X , theta);\n",
    "print(guessO)\n"
   ]
  },
  {
   "cell_type": "code",
   "execution_count": null,
   "metadata": {},
   "outputs": [],
   "source": []
  },
  {
   "cell_type": "code",
   "execution_count": null,
   "metadata": {},
   "outputs": [],
   "source": []
  },
  {
   "cell_type": "code",
   "execution_count": null,
   "metadata": {},
   "outputs": [],
   "source": []
  }
 ],
 "metadata": {
  "kernelspec": {
   "display_name": "Python 3",
   "language": "python",
   "name": "python3"
  },
  "language_info": {
   "codemirror_mode": {
    "name": "ipython",
    "version": 3
   },
   "file_extension": ".py",
   "mimetype": "text/x-python",
   "name": "python",
   "nbconvert_exporter": "python",
   "pygments_lexer": "ipython3",
   "version": "3.7.0"
  }
 },
 "nbformat": 4,
 "nbformat_minor": 2
}
