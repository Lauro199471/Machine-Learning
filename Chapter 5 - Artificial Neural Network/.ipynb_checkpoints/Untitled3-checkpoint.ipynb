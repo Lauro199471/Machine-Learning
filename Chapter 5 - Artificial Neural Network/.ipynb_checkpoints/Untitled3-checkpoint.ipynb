{
 "cells": [
  {
   "cell_type": "code",
   "execution_count": 2,
   "metadata": {},
   "outputs": [],
   "source": [
    "import tensorflow as tf\n",
    "import numpy as np"
   ]
  },
  {
   "cell_type": "code",
   "execution_count": 4,
   "metadata": {},
   "outputs": [],
   "source": [
    "# Dataset\n",
    "x_data = np.array([\n",
    "[0.,0.], [0.,1.], [1.,0.], [1.,1.]\n",
    "])\n",
    "y_data = np.array([\n",
    "[0.], [1.], [1.], [0.]\n",
    "])\n"
   ]
  },
  {
   "cell_type": "code",
   "execution_count": 5,
   "metadata": {},
   "outputs": [],
   "source": [
    "# Hyperparamters\n",
    "n_input = 2\n",
    "n_hidden = 10\n",
    "n_output = 1\n",
    "lr = 0.1\n",
    "epochs = 10000\n",
    "display_step = 1000"
   ]
  },
  {
   "cell_type": "code",
   "execution_count": 6,
   "metadata": {},
   "outputs": [],
   "source": [
    "# Placeholders\n",
    "X = tf.placeholder(tf.float32)\n",
    "Y = tf.placeholder(tf.float32)"
   ]
  },
  {
   "cell_type": "code",
   "execution_count": 7,
   "metadata": {},
   "outputs": [],
   "source": [
    "# Weights\n",
    "W1 = tf.Variable(tf.random_uniform([n_input, n_hidden], -1.0, 1.0))\n",
    "W2 = tf.Variable(tf.random_uniform([n_hidden, n_output], -1.0, 1.0))"
   ]
  },
  {
   "cell_type": "code",
   "execution_count": 8,
   "metadata": {},
   "outputs": [],
   "source": [
    "# Bias\n",
    "b1 = tf.Variable(tf.zeros([n_hidden]))\n",
    "b2 = tf.Variable(tf.zeros([n_output]))"
   ]
  },
  {
   "cell_type": "code",
   "execution_count": 9,
   "metadata": {},
   "outputs": [],
   "source": [
    "L2 = tf.sigmoid(tf.matmul(X, W1) + b1)\n",
    "hy = tf.sigmoid(tf.matmul(L2, W2) + b2)\n",
    "cost = tf.reduce_mean(-Y*tf.log(hy) - (1-Y) * tf.log(1-hy))\n",
    "optimizer = tf.train.GradientDescentOptimizer(lr).minimize(cost)"
   ]
  },
  {
   "cell_type": "code",
   "execution_count": 10,
   "metadata": {},
   "outputs": [],
   "source": [
    "init = tf.global_variables_initializer()"
   ]
  },
  {
   "cell_type": "code",
   "execution_count": null,
   "metadata": {},
   "outputs": [],
   "source": [
    "with tf.Session() as sess:\n",
    "    sess.run(init)\n",
    "\n",
    "    for step in range(epochs):\n",
    "        _, c = sess.run([optimizer, cost], feed_dict = {X: x_data, Y: y_data})\n",
    "\n",
    "        if step % display_step == 0:\n",
    "            print(\"Cost: \", c)\n",
    "\n",
    "    answer = tf.equal(tf.floor(hy + 0.1), Y)\n",
    "    accuracy = tf.reduce_mean(tf.cast(answer, \"float\"))\n",
    "\n",
    "    print(sess.run([hy], feed_dict = {X: x_data, Y: y_data}))\n",
    "    print(\"Accuracy: \", accuracy.eval({X: x_data, Y: y_data}))"
   ]
  }
 ],
 "metadata": {
  "kernelspec": {
   "display_name": "Python 3",
   "language": "python",
   "name": "python3"
  },
  "language_info": {
   "codemirror_mode": {
    "name": "ipython",
    "version": 3
   },
   "file_extension": ".py",
   "mimetype": "text/x-python",
   "name": "python",
   "nbconvert_exporter": "python",
   "pygments_lexer": "ipython3",
   "version": "3.5.6"
  }
 },
 "nbformat": 4,
 "nbformat_minor": 2
}
