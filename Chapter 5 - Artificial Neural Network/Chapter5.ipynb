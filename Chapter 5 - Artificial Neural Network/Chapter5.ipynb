{
 "cells": [
  {
   "cell_type": "code",
   "execution_count": 1,
   "metadata": {},
   "outputs": [],
   "source": [
    "import numpy as np \n",
    "import matplotlib.pyplot as plt "
   ]
  },
  {
   "cell_type": "markdown",
   "metadata": {},
   "source": [
    "![1_x_cjvgyfbcqimkhmfk-ydw](https://user-images.githubusercontent.com/13907836/48299267-a41acf00-e47f-11e8-8f42-5aa0df5652d5.jpg)\n"
   ]
  },
  {
   "cell_type": "markdown",
   "metadata": {},
   "source": [
    "# 1 - Building a Perceptron based classifier\n",
    "A Perceptron is the building block of an artificial neural network. It is a single neuron that takes inputs, performs computation on them, and then produces an output. It uses a simple linear function to make the decision. Let's say we are dealing with an N-dimension input data point. A Perceptron computes the weighted summation of those N numbers and it then adds a constant to produce the output. The constant is called the bias of the neuron. It is remarkable to note that these simple Perceptrons are used to design very complex deep neural networks.\n",
    "\n",
    "Artificial Nueron - recieves input => Does Math Stuff => Produces an Output"
   ]
  },
  {
   "cell_type": "markdown",
   "metadata": {},
   "source": [
    "### Load input data  \n"
   ]
  },
  {
   "cell_type": "code",
   "execution_count": 2,
   "metadata": {},
   "outputs": [
    {
     "name": "stdout",
     "output_type": "stream",
     "text": [
      "[[0.22 0.34 0.  ]\n",
      " [0.21 0.37 0.  ]\n",
      " [0.25 0.31 0.  ]\n",
      " [0.76 0.19 1.  ]\n",
      " [0.84 0.14 1.  ]]\n"
     ]
    }
   ],
   "source": [
    "num_dataset = np.array([[0.22, 0.34, 0], [0.21, 0.37, 0], [0.25, 0.31, 0], [0.76, 0.19, 1], [0.84, 0.14, 1]])\n",
    "print(num_dataset)"
   ]
  },
  {
   "cell_type": "markdown",
   "metadata": {},
   "source": [
    "### Separate the text into datapoints and labels"
   ]
  },
  {
   "cell_type": "code",
   "execution_count": 3,
   "metadata": {},
   "outputs": [
    {
     "name": "stdout",
     "output_type": "stream",
     "text": [
      "Data Matrix : \n",
      " [[0.22 0.34]\n",
      " [0.21 0.37]\n",
      " [0.25 0.31]\n",
      " [0.76 0.19]\n",
      " [0.84 0.14]]\n",
      "(5, 2)\n",
      "\n",
      "Label Vector : \n",
      " [[0.]\n",
      " [0.]\n",
      " [0.]\n",
      " [1.]\n",
      " [1.]]\n",
      "(5, 1)\n"
     ]
    }
   ],
   "source": [
    "data = num_dataset[:, 0:2]\n",
    "print(\"Data Matrix : \\n\" , data)\n",
    "print(data.shape)\n",
    "\n",
    "print(\"\")\n",
    "\n",
    "labels = num_dataset[:, 2:3]\n",
    "print(\"Label Vector : \\n\" , labels)\n",
    "print(labels.shape)"
   ]
  },
  {
   "cell_type": "markdown",
   "metadata": {},
   "source": [
    "### Plot the Data Matrix"
   ]
  },
  {
   "cell_type": "code",
   "execution_count": 4,
   "metadata": {},
   "outputs": [
    {
     "data": {
      "text/plain": [
       "Text(0.5,1,'Input data')"
      ]
     },
     "execution_count": 4,
     "metadata": {},
     "output_type": "execute_result"
    },
    {
     "data": {
      "image/png": "[encoded data removed]",
      "text/plain": [
       "<Figure size 432x288 with 1 Axes>"
      ]
     },
     "metadata": {
      "needs_background": "light"
     },
     "output_type": "display_data"
    }
   ],
   "source": [
    "plt.figure()\n",
    "plt.scatter(data[:,0], data[:,1]) \n",
    "plt.xlabel('Dimension 1') \n",
    "plt.ylabel('Dimension 2') \n",
    "plt.title('Input data') "
   ]
  },
  {
   "cell_type": "markdown",
   "metadata": {},
   "source": [
    "### Define the maximum and minimum values that each dimension can take"
   ]
  },
  {
   "cell_type": "code",
   "execution_count": 5,
   "metadata": {},
   "outputs": [],
   "source": [
    "dim1_min, dim1_max, dim2_min, dim2_max = 0, 1, 0, 1"
   ]
  },
  {
   "cell_type": "markdown",
   "metadata": {},
   "source": [
    "### Since the data is separated into two classes, we just need one bit to represent the output. So the output layer will contain a single neuron."
   ]
  },
  {
   "cell_type": "code",
   "execution_count": 6,
   "metadata": {},
   "outputs": [],
   "source": [
    "# Number of neurons in the output layer \n",
    "num_output = labels.shape[1] "
   ]
  },
  {
   "cell_type": "markdown",
   "metadata": {},
   "source": [
    "### We have a dataset where the datapoints are two-dimensional. Let's define a Perceptron with two input neurons, where we assign one neuron for each dimension.\n",
    "![250px-a_simple_neural_network_with_two_input_units_and_one_output_unit](https://user-images.githubusercontent.com/13907836/48299703-82bce180-e485-11e8-8b89-af0af45b7967.png)\n"
   ]
  },
  {
   "cell_type": "code",
   "execution_count": 9,
   "metadata": {},
   "outputs": [],
   "source": [
    "# Define a perceptron with 2 input neurons (because we  \n",
    "# have 2 dimensions in the input data) \n",
    "dim1 = [dim1_min, dim1_max] \n",
    "dim2 = [dim2_min, dim2_max] "
   ]
  },
  {
   "cell_type": "markdown",
   "metadata": {},
   "source": [
    "# Perceptron \n",
    "![0__dqh0sfffwc_lr6s](https://user-images.githubusercontent.com/13907836/48324332-21ac1f80-e5e5-11e8-959b-858b943b2b59.png)\n",
    "\n",
    "The Perceptron Algorithm:\n",
    "\n",
    "1. For every input, multiply that input by its weight.\n",
    "2. Sum all of the weighted inputs.\n",
    "3. Compute the output of the perceptron based on that sum passed through an activation function (the sign of the sum).\n",
    "\n"
   ]
  },
  {
   "cell_type": "code",
   "execution_count": null,
   "metadata": {},
   "outputs": [],
   "source": []
  }
 ],
 "metadata": {
  "kernelspec": {
   "display_name": "Python 3",
   "language": "python",
   "name": "python3"
  },
  "language_info": {
   "codemirror_mode": {
    "name": "ipython",
    "version": 3
   },
   "file_extension": ".py",
   "mimetype": "text/x-python",
   "name": "python",
   "nbconvert_exporter": "python",
   "pygments_lexer": "ipython3",
   "version": "3.7.0"
  }
 },
 "nbformat": 4,
 "nbformat_minor": 2
}
