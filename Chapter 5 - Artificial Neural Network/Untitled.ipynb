{
 "cells": [
  {
   "cell_type": "markdown",
   "metadata": {},
   "source": [
    "| x(0,0)  x(0,1) x(0,2)| | w0 |\n",
    "\n",
    "| x(1,0)  x(1,1) x(1,2)| | w1 |\n",
    "\n",
    "| x(2,0)  x(2,1) x(2,2)| | w2 |"
   ]
  },
  {
   "cell_type": "code",
   "execution_count": 1,
   "metadata": {},
   "outputs": [],
   "source": [
    "import numpy as np"
   ]
  },
  {
   "cell_type": "markdown",
   "metadata": {},
   "source": [
    "# 1. Perceptron"
   ]
  },
  {
   "cell_type": "markdown",
   "metadata": {},
   "source": [
    "### Active Function\n",
    "Output is a 0 ~ 1"
   ]
  },
  {
   "cell_type": "code",
   "execution_count": 2,
   "metadata": {},
   "outputs": [],
   "source": [
    "# This is the activation function\n",
    "def sigmoid(x):\n",
    "    \"\"\"\n",
    "    Takes in weighted sum of the inputs and normalizes\n",
    "    them through between 0 and 1 through a sigmoid function\n",
    "    \"\"\"\n",
    "    return 1 / (1 + np.exp(-x))"
   ]
  },
  {
   "cell_type": "code",
   "execution_count": 3,
   "metadata": {},
   "outputs": [],
   "source": [
    "def sigmoid_derivative(x):\n",
    "    \"\"\"\n",
    "    The derivative of the sigmoid function used to\n",
    "    calculate necessary weight adjustments\n",
    "    \"\"\"\n",
    "    return x * (1 - x)"
   ]
  },
  {
   "cell_type": "markdown",
   "metadata": {},
   "source": [
    "![capture](https://user-images.githubusercontent.com/13907836/48332138-9728e780-e607-11e8-8a23-ec84f2768448.PNG)"
   ]
  },
  {
   "cell_type": "markdown",
   "metadata": {},
   "source": [
    "## Training Function"
   ]
  },
  {
   "cell_type": "code",
   "execution_count": 4,
   "metadata": {},
   "outputs": [],
   "source": [
    "def train(training_inputs, training_outputs, training_iterations , thetas):\n",
    "    \"\"\"\n",
    "    We train the model through trial and error, adjusting the\n",
    "    synaptic weights each time to get a better result\n",
    "    \"\"\"\n",
    "    for iteration in range(training_iterations):\n",
    "        \n",
    "        output = sigmoid(np.dot(training_inputs , thetas))\n",
    "        \n",
    "        error = training_outputs - output\n",
    "\n",
    "        adjust = error * sigmoid_derivative(output)\n",
    "        \n",
    "        thetas = thetas + (np.dot(training_inputs.T , adjust))\n",
    "\n",
    "    return output"
   ]
  },
  {
   "cell_type": "markdown",
   "metadata": {},
   "source": [
    "# Main Algorithm"
   ]
  },
  {
   "cell_type": "code",
   "execution_count": 11,
   "metadata": {
    "scrolled": true
   },
   "outputs": [
    {
     "name": "stdout",
     "output_type": "stream",
     "text": [
      "[[0.]\n",
      " [1.]\n",
      " [1.]\n",
      " [0.]]\n",
      "Data:  (4, 3)\n",
      "thetas:  (3, 1)\n",
      "\n",
      "label:  (4, 1)\n",
      "[[0.00307958]\n",
      " [0.99931447]\n",
      " [0.99651087]\n",
      " [0.00307958]]\n"
     ]
    }
   ],
   "source": [
    "data = np.genfromtxt(\"data.csv\", delimiter=\",\");\n",
    "points = data[:, 0:3];\n",
    "label = data[:,3:4];\n",
    "\n",
    "numSamples , numFeatures = points.shape;\n",
    "thetas = np.zeros([numFeatures , 1]);\n",
    "\n",
    "print(\"Data: \" , np.shape(points));\n",
    "print(\"thetas: \" , np.shape(thetas));\n",
    "print(\"\\nlabel: \" , np.shape(label));\n",
    "\n",
    "out = train(points, label, 80000 , thetas);\n",
    "print(out)"
   ]
  },
  {
   "cell_type": "code",
   "execution_count": null,
   "metadata": {},
   "outputs": [],
   "source": []
  },
  {
   "cell_type": "code",
   "execution_count": null,
   "metadata": {},
   "outputs": [],
   "source": []
  }
 ],
 "metadata": {
  "kernelspec": {
   "display_name": "Python 3",
   "language": "python",
   "name": "python3"
  },
  "language_info": {
   "codemirror_mode": {
    "name": "ipython",
    "version": 3
   },
   "file_extension": ".py",
   "mimetype": "text/x-python",
   "name": "python",
   "nbconvert_exporter": "python",
   "pygments_lexer": "ipython3",
   "version": "3.7.0"
  }
 },
 "nbformat": 4,
 "nbformat_minor": 2
}
