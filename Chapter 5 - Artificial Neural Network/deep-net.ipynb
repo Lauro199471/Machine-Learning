{
 "cells": [
  {
   "cell_type": "markdown",
   "metadata": {},
   "source": [
    "# Import Data "
   ]
  },
  {
   "cell_type": "code",
   "execution_count": 1,
   "metadata": {},
   "outputs": [],
   "source": [
    "from tensorflow.examples.tutorials.mnist import input_data"
   ]
  },
  {
   "cell_type": "code",
   "execution_count": 2,
   "metadata": {},
   "outputs": [],
   "source": [
    "import tensorflow as tf"
   ]
  },
  {
   "cell_type": "markdown",
   "metadata": {},
   "source": [
    "# Read Data "
   ]
  },
  {
   "cell_type": "code",
   "execution_count": 8,
   "metadata": {},
   "outputs": [
    {
     "name": "stdout",
     "output_type": "stream",
     "text": [
      "Extracting /tmp/data\\train-images-idx3-ubyte.gz\n",
      "Extracting /tmp/data\\train-labels-idx1-ubyte.gz\n",
      "Extracting /tmp/data\\t10k-images-idx3-ubyte.gz\n",
      "Extracting /tmp/data\\t10k-labels-idx1-ubyte.gz\n"
     ]
    }
   ],
   "source": [
    "mnist = input_data.read_data_sets(\"/tmp/data\", one_hot = True); # 28 x 28 matrix"
   ]
  },
  {
   "cell_type": "code",
   "execution_count": null,
   "metadata": {},
   "outputs": [],
   "source": []
  },
  {
   "cell_type": "code",
   "execution_count": 4,
   "metadata": {},
   "outputs": [],
   "source": [
    "# 3 hidden levels , 500 was choosen randomly\n",
    "n_nodes_hidden_layer_1 = 500;\n",
    "n_nodes_hidden_layer_2 = 500;\n",
    "n_nodes_hidden_layer_3 = 500;"
   ]
  },
  {
   "cell_type": "code",
   "execution_count": 5,
   "metadata": {},
   "outputs": [],
   "source": [
    "# 10 classes , 0-9\n",
    "n_class = 10;\n",
    "# batch for breaking down matrix\n",
    "batch_size = 100;"
   ]
  },
  {
   "cell_type": "code",
   "execution_count": 6,
   "metadata": {},
   "outputs": [],
   "source": [
    "# height x weight , 28 x 28 = 784\n",
    "X = tf.placeholder('float' , [1 , 784]) # 1 x 784\n",
    "y = tf.placeholder('float') # 1x1"
   ]
  },
  {
   "cell_type": "markdown",
   "metadata": {},
   "source": [
    "# Neural Network Class"
   ]
  },
  {
   "cell_type": "code",
   "execution_count": 7,
   "metadata": {},
   "outputs": [],
   "source": [
    "def neural_network_model(data):\n",
    "    '''\n",
    "        Hidden Layer 1\n",
    "    '''\n",
    "    hidden_1_layer = {'weights' : tf.Variable(tf.random([784 , n_nodes_hidden_layer_1])),\n",
    "                      'biases'  : tf.Variable(tf.random([1 , n_nodes_hidden_layer_1]))\n",
    "                     }\n",
    "    '''\n",
    "        Hidden Layer 2\n",
    "    '''\n",
    "    hidden_2_layer = {'weights' : tf.Variable(tf.random([n_nodes_hidden_layer_1 , n_nodes_hidden_layer_2])),\n",
    "                      'biases'  : tf.Variable(tf.random([1 , n_nodes_hidden_layer_2]))\n",
    "                     }\n",
    "    '''\n",
    "        Hidden Layer 3\n",
    "    '''\n",
    "    hidden_3_layer = {'weights' : tf.Variable(tf.random([n_nodes_hidden_layer_2 , n_nodes_hidden_layer_3])),\n",
    "                      'biases'  : tf.Variable(tf.random([1 , n_nodes_hidden_layer_3]))\n",
    "                     }\n",
    "    '''\n",
    "       Output Layer\n",
    "    '''\n",
    "    output_layer =  {'weights' : tf.Variable(tf.random([n_nodes_hidden_layer_3 , n_class])),\n",
    "                      'biases'  : tf.Variable(tf.random([1 , n_class]))\n",
    "                     }\n",
    "    \n",
    "    '''\n",
    "        (input * weights) + biases\n",
    "    '''\n",
    "    level_1 = tf.add(tf.matmul(data , hidden_1_layer['weights']) + hidden_1_layer['biases']);\n",
    "    level_1 = tf.nn.relu(level_1); # Activition function\n",
    "    \n",
    "    level_2 = tf.add(tf.matmul(level_1 , hidden_2_layer['weights']) + hidden_2_layer['biases']);\n",
    "    level_2 = tf.nn.relu(level_2); # Activition function\n",
    "    \n",
    "    level_3 = tf.add(tf.matmul(level_2 , hidden_3_layer['weights']) + hidden_3_layer['biases']);\n",
    "    level_3 = tf.nn.relu(level_3); # Activition function\n",
    "    \n",
    "    output_level = tf.matmul(level_3 , output_layer['weights']) + output_layer['biases'];\n",
    "    \n",
    "    return output_level"
   ]
  },
  {
   "cell_type": "code",
   "execution_count": null,
   "metadata": {},
   "outputs": [],
   "source": []
  },
  {
   "cell_type": "code",
   "execution_count": null,
   "metadata": {},
   "outputs": [],
   "source": []
  },
  {
   "cell_type": "code",
   "execution_count": null,
   "metadata": {},
   "outputs": [],
   "source": []
  },
  {
   "cell_type": "code",
   "execution_count": null,
   "metadata": {},
   "outputs": [],
   "source": []
  },
  {
   "cell_type": "code",
   "execution_count": null,
   "metadata": {},
   "outputs": [],
   "source": []
  }
 ],
 "metadata": {
  "kernelspec": {
   "display_name": "Python 3",
   "language": "python",
   "name": "python3"
  },
  "language_info": {
   "codemirror_mode": {
    "name": "ipython",
    "version": 3
   },
   "file_extension": ".py",
   "mimetype": "text/x-python",
   "name": "python",
   "nbconvert_exporter": "python",
   "pygments_lexer": "ipython3",
   "version": "3.5.6"
  }
 },
 "nbformat": 4,
 "nbformat_minor": 2
}
